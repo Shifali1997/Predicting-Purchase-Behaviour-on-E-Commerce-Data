{
  "nbformat": 4,
  "nbformat_minor": 0,
  "metadata": {
    "colab": {
      "name": "EDA.ipynb",
      "provenance": []
    },
    "kernelspec": {
      "name": "python3",
      "display_name": "Python 3"
    }
  },
  "cells": [
    {
      "cell_type": "code",
      "metadata": {
        "id": "k4liXBL_K6_I",
        "colab_type": "code",
        "outputId": "a92a8176-a489-462e-8e90-1bb9d03c48ab",
        "colab": {
          "base_uri": "https://localhost:8080/",
          "height": 76
        }
      },
      "source": [
        "import pandas as pd\n",
        "import numpy as np\n",
        "import matplotlib.pyplot as plt\n",
        "import seaborn as sns\n",
        "from sklearn import datasets\n",
        "#ignore warnings\n",
        "import warnings\n",
        "warnings.filterwarnings('ignore')"
      ],
      "execution_count": 0,
      "outputs": [
        {
          "output_type": "stream",
          "text": [
            "/usr/local/lib/python3.6/dist-packages/statsmodels/tools/_testing.py:19: FutureWarning: pandas.util.testing is deprecated. Use the functions in the public API at pandas.testing instead.\n",
            "  import pandas.util.testing as tm\n"
          ],
          "name": "stderr"
        }
      ]
    },
    {
      "cell_type": "code",
      "metadata": {
        "id": "_d80fIS9LET9",
        "colab_type": "code",
        "colab": {}
      },
      "source": [
        "aisle=pd.read_csv('/content/drive/My Drive/Colab Notebooks/aisles.csv')\n",
        "departments=pd.read_csv('/content/drive/My Drive/Colab Notebooks/departments.csv')\n",
        "prior=pd.read_csv('/content/drive/My Drive/Colab Notebooks/order_products_prior. csv')\n",
        "test=pd.read_csv('/content/drive/My Drive/Colab Notebooks/order_products_test. csv')\n",
        "train=pd.read_csv('/content/drive/My Drive/Colab Notebooks/order_products_train. csv')\n",
        "orders=pd.read_csv('/content/drive/My Drive/Colab Notebooks/orders. csv')\n",
        "products=pd.read_csv('/content/drive/My Drive/Colab Notebooks/products.csv')"
      ],
      "execution_count": 0,
      "outputs": []
    },
    {
      "cell_type": "code",
      "metadata": {
        "id": "sTKYWlMJLESB",
        "colab_type": "code",
        "outputId": "554a7ff9-a74e-4b9f-d8d2-7de233af9d3a",
        "colab": {
          "base_uri": "https://localhost:8080/",
          "height": 156
        }
      },
      "source": [
        "print('The shape of aisle is :',aisle.shape)\n",
        "print('The shape of department  is :',departments.shape)\n",
        "print('The shape of prior is :',prior.shape)\n",
        "print('The shape of test is :',test.shape)\n",
        "print('The shape of train is :',train.shape)\n",
        "print('The shape of orders is :',orders.shape)\n",
        "print('The shape of products is :',products.shape)"
      ],
      "execution_count": 0,
      "outputs": [
        {
          "output_type": "stream",
          "text": [
            "The shape of aisle is : (134, 2)\n",
            "The shape of department  is : (21, 2)\n",
            "The shape of prior is : (32434489, 4)\n",
            "The shape of test is : (316449, 5)\n",
            "The shape of train is : (1068168, 5)\n",
            "The shape of orders is : (2186548, 8)\n",
            "The shape of products is : (49688, 4)\n"
          ],
          "name": "stdout"
        }
      ]
    },
    {
      "cell_type": "code",
      "metadata": {
        "id": "H6ytyntpLEQK",
        "colab_type": "code",
        "outputId": "6d058cfc-d0e1-4b45-b69c-7a1baad8d5f1",
        "colab": {
          "base_uri": "https://localhost:8080/",
          "height": 217
        }
      },
      "source": [
        "aisle.head(5)"
      ],
      "execution_count": 0,
      "outputs": [
        {
          "output_type": "execute_result",
          "data": {
            "text/html": [
              "<div>\n",
              "<style scoped>\n",
              "    .dataframe tbody tr th:only-of-type {\n",
              "        vertical-align: middle;\n",
              "    }\n",
              "\n",
              "    .dataframe tbody tr th {\n",
              "        vertical-align: top;\n",
              "    }\n",
              "\n",
              "    .dataframe thead th {\n",
              "        text-align: right;\n",
              "    }\n",
              "</style>\n",
              "<table border=\"1\" class=\"dataframe\">\n",
              "  <thead>\n",
              "    <tr style=\"text-align: right;\">\n",
              "      <th></th>\n",
              "      <th>aisle_id</th>\n",
              "      <th>aisle</th>\n",
              "    </tr>\n",
              "  </thead>\n",
              "  <tbody>\n",
              "    <tr>\n",
              "      <th>0</th>\n",
              "      <td>1</td>\n",
              "      <td>prepared soups salads</td>\n",
              "    </tr>\n",
              "    <tr>\n",
              "      <th>1</th>\n",
              "      <td>2</td>\n",
              "      <td>specialty cheeses</td>\n",
              "    </tr>\n",
              "    <tr>\n",
              "      <th>2</th>\n",
              "      <td>3</td>\n",
              "      <td>energy granola bars</td>\n",
              "    </tr>\n",
              "    <tr>\n",
              "      <th>3</th>\n",
              "      <td>4</td>\n",
              "      <td>instant foods</td>\n",
              "    </tr>\n",
              "    <tr>\n",
              "      <th>4</th>\n",
              "      <td>5</td>\n",
              "      <td>marinades meat preparation</td>\n",
              "    </tr>\n",
              "  </tbody>\n",
              "</table>\n",
              "</div>"
            ],
            "text/plain": [
              "   aisle_id                       aisle\n",
              "0         1       prepared soups salads\n",
              "1         2           specialty cheeses\n",
              "2         3         energy granola bars\n",
              "3         4               instant foods\n",
              "4         5  marinades meat preparation"
            ]
          },
          "metadata": {
            "tags": []
          },
          "execution_count": 6
        }
      ]
    },
    {
      "cell_type": "code",
      "metadata": {
        "id": "j8q7AOEBLENq",
        "colab_type": "code",
        "outputId": "a0e5d8d2-e19b-4b3c-cc0f-61afb9710e34",
        "colab": {
          "base_uri": "https://localhost:8080/",
          "height": 217
        }
      },
      "source": [
        "departments.head(5)"
      ],
      "execution_count": 0,
      "outputs": [
        {
          "output_type": "execute_result",
          "data": {
            "text/html": [
              "<div>\n",
              "<style scoped>\n",
              "    .dataframe tbody tr th:only-of-type {\n",
              "        vertical-align: middle;\n",
              "    }\n",
              "\n",
              "    .dataframe tbody tr th {\n",
              "        vertical-align: top;\n",
              "    }\n",
              "\n",
              "    .dataframe thead th {\n",
              "        text-align: right;\n",
              "    }\n",
              "</style>\n",
              "<table border=\"1\" class=\"dataframe\">\n",
              "  <thead>\n",
              "    <tr style=\"text-align: right;\">\n",
              "      <th></th>\n",
              "      <th>department_id</th>\n",
              "      <th>department</th>\n",
              "    </tr>\n",
              "  </thead>\n",
              "  <tbody>\n",
              "    <tr>\n",
              "      <th>0</th>\n",
              "      <td>1</td>\n",
              "      <td>frozen</td>\n",
              "    </tr>\n",
              "    <tr>\n",
              "      <th>1</th>\n",
              "      <td>2</td>\n",
              "      <td>other</td>\n",
              "    </tr>\n",
              "    <tr>\n",
              "      <th>2</th>\n",
              "      <td>3</td>\n",
              "      <td>bakery</td>\n",
              "    </tr>\n",
              "    <tr>\n",
              "      <th>3</th>\n",
              "      <td>4</td>\n",
              "      <td>produce</td>\n",
              "    </tr>\n",
              "    <tr>\n",
              "      <th>4</th>\n",
              "      <td>5</td>\n",
              "      <td>alcohol</td>\n",
              "    </tr>\n",
              "  </tbody>\n",
              "</table>\n",
              "</div>"
            ],
            "text/plain": [
              "   department_id department\n",
              "0              1     frozen\n",
              "1              2      other\n",
              "2              3     bakery\n",
              "3              4    produce\n",
              "4              5    alcohol"
            ]
          },
          "metadata": {
            "tags": []
          },
          "execution_count": 7
        }
      ]
    },
    {
      "cell_type": "code",
      "metadata": {
        "id": "bp1uPrJwLELc",
        "colab_type": "code",
        "outputId": "4cc833fb-edaf-4aed-b45c-74fe2bad23eb",
        "colab": {
          "base_uri": "https://localhost:8080/",
          "height": 217
        }
      },
      "source": [
        "prior.head(5)"
      ],
      "execution_count": 0,
      "outputs": [
        {
          "output_type": "execute_result",
          "data": {
            "text/html": [
              "<div>\n",
              "<style scoped>\n",
              "    .dataframe tbody tr th:only-of-type {\n",
              "        vertical-align: middle;\n",
              "    }\n",
              "\n",
              "    .dataframe tbody tr th {\n",
              "        vertical-align: top;\n",
              "    }\n",
              "\n",
              "    .dataframe thead th {\n",
              "        text-align: right;\n",
              "    }\n",
              "</style>\n",
              "<table border=\"1\" class=\"dataframe\">\n",
              "  <thead>\n",
              "    <tr style=\"text-align: right;\">\n",
              "      <th></th>\n",
              "      <th>order_id</th>\n",
              "      <th>product_id</th>\n",
              "      <th>add_to_cart_order</th>\n",
              "      <th>reordered</th>\n",
              "    </tr>\n",
              "  </thead>\n",
              "  <tbody>\n",
              "    <tr>\n",
              "      <th>0</th>\n",
              "      <td>2</td>\n",
              "      <td>33120</td>\n",
              "      <td>1</td>\n",
              "      <td>1</td>\n",
              "    </tr>\n",
              "    <tr>\n",
              "      <th>1</th>\n",
              "      <td>2</td>\n",
              "      <td>28985</td>\n",
              "      <td>2</td>\n",
              "      <td>1</td>\n",
              "    </tr>\n",
              "    <tr>\n",
              "      <th>2</th>\n",
              "      <td>2</td>\n",
              "      <td>9327</td>\n",
              "      <td>3</td>\n",
              "      <td>0</td>\n",
              "    </tr>\n",
              "    <tr>\n",
              "      <th>3</th>\n",
              "      <td>2</td>\n",
              "      <td>45918</td>\n",
              "      <td>4</td>\n",
              "      <td>1</td>\n",
              "    </tr>\n",
              "    <tr>\n",
              "      <th>4</th>\n",
              "      <td>2</td>\n",
              "      <td>30035</td>\n",
              "      <td>5</td>\n",
              "      <td>0</td>\n",
              "    </tr>\n",
              "  </tbody>\n",
              "</table>\n",
              "</div>"
            ],
            "text/plain": [
              "   order_id  product_id  add_to_cart_order  reordered\n",
              "0         2       33120                  1          1\n",
              "1         2       28985                  2          1\n",
              "2         2        9327                  3          0\n",
              "3         2       45918                  4          1\n",
              "4         2       30035                  5          0"
            ]
          },
          "metadata": {
            "tags": []
          },
          "execution_count": 9
        }
      ]
    },
    {
      "cell_type": "code",
      "metadata": {
        "id": "OwQ5e7eXL4cm",
        "colab_type": "code",
        "outputId": "9b24de86-8d2c-4554-f301-10d13c152909",
        "colab": {
          "base_uri": "https://localhost:8080/",
          "height": 217
        }
      },
      "source": [
        "test.head(5)"
      ],
      "execution_count": 0,
      "outputs": [
        {
          "output_type": "execute_result",
          "data": {
            "text/html": [
              "<div>\n",
              "<style scoped>\n",
              "    .dataframe tbody tr th:only-of-type {\n",
              "        vertical-align: middle;\n",
              "    }\n",
              "\n",
              "    .dataframe tbody tr th {\n",
              "        vertical-align: top;\n",
              "    }\n",
              "\n",
              "    .dataframe thead th {\n",
              "        text-align: right;\n",
              "    }\n",
              "</style>\n",
              "<table border=\"1\" class=\"dataframe\">\n",
              "  <thead>\n",
              "    <tr style=\"text-align: right;\">\n",
              "      <th></th>\n",
              "      <th>Unnamed: 0</th>\n",
              "      <th>order_id</th>\n",
              "      <th>product_id</th>\n",
              "      <th>add_to_cart_order</th>\n",
              "      <th>reordered</th>\n",
              "    </tr>\n",
              "  </thead>\n",
              "  <tbody>\n",
              "    <tr>\n",
              "      <th>0</th>\n",
              "      <td>0</td>\n",
              "      <td>1</td>\n",
              "      <td>49302</td>\n",
              "      <td>1</td>\n",
              "      <td>1</td>\n",
              "    </tr>\n",
              "    <tr>\n",
              "      <th>1</th>\n",
              "      <td>1</td>\n",
              "      <td>1</td>\n",
              "      <td>11109</td>\n",
              "      <td>2</td>\n",
              "      <td>1</td>\n",
              "    </tr>\n",
              "    <tr>\n",
              "      <th>2</th>\n",
              "      <td>2</td>\n",
              "      <td>1</td>\n",
              "      <td>10246</td>\n",
              "      <td>3</td>\n",
              "      <td>0</td>\n",
              "    </tr>\n",
              "    <tr>\n",
              "      <th>3</th>\n",
              "      <td>3</td>\n",
              "      <td>1</td>\n",
              "      <td>49683</td>\n",
              "      <td>4</td>\n",
              "      <td>0</td>\n",
              "    </tr>\n",
              "    <tr>\n",
              "      <th>4</th>\n",
              "      <td>4</td>\n",
              "      <td>1</td>\n",
              "      <td>43633</td>\n",
              "      <td>5</td>\n",
              "      <td>1</td>\n",
              "    </tr>\n",
              "  </tbody>\n",
              "</table>\n",
              "</div>"
            ],
            "text/plain": [
              "   Unnamed: 0  order_id  product_id  add_to_cart_order  reordered\n",
              "0           0         1       49302                  1          1\n",
              "1           1         1       11109                  2          1\n",
              "2           2         1       10246                  3          0\n",
              "3           3         1       49683                  4          0\n",
              "4           4         1       43633                  5          1"
            ]
          },
          "metadata": {
            "tags": []
          },
          "execution_count": 10
        }
      ]
    },
    {
      "cell_type": "code",
      "metadata": {
        "id": "NQYTLVYaL4Zl",
        "colab_type": "code",
        "outputId": "475ad76c-c9f4-4b3d-ae58-6b4ad2dcf28e",
        "colab": {
          "base_uri": "https://localhost:8080/",
          "height": 217
        }
      },
      "source": [
        "train.head(5)"
      ],
      "execution_count": 0,
      "outputs": [
        {
          "output_type": "execute_result",
          "data": {
            "text/html": [
              "<div>\n",
              "<style scoped>\n",
              "    .dataframe tbody tr th:only-of-type {\n",
              "        vertical-align: middle;\n",
              "    }\n",
              "\n",
              "    .dataframe tbody tr th {\n",
              "        vertical-align: top;\n",
              "    }\n",
              "\n",
              "    .dataframe thead th {\n",
              "        text-align: right;\n",
              "    }\n",
              "</style>\n",
              "<table border=\"1\" class=\"dataframe\">\n",
              "  <thead>\n",
              "    <tr style=\"text-align: right;\">\n",
              "      <th></th>\n",
              "      <th>Unnamed: 0</th>\n",
              "      <th>order_id</th>\n",
              "      <th>product_id</th>\n",
              "      <th>add_to_cart_order</th>\n",
              "      <th>reordered</th>\n",
              "    </tr>\n",
              "  </thead>\n",
              "  <tbody>\n",
              "    <tr>\n",
              "      <th>0</th>\n",
              "      <td>8</td>\n",
              "      <td>36</td>\n",
              "      <td>39612</td>\n",
              "      <td>1</td>\n",
              "      <td>0</td>\n",
              "    </tr>\n",
              "    <tr>\n",
              "      <th>1</th>\n",
              "      <td>9</td>\n",
              "      <td>36</td>\n",
              "      <td>19660</td>\n",
              "      <td>2</td>\n",
              "      <td>1</td>\n",
              "    </tr>\n",
              "    <tr>\n",
              "      <th>2</th>\n",
              "      <td>10</td>\n",
              "      <td>36</td>\n",
              "      <td>49235</td>\n",
              "      <td>3</td>\n",
              "      <td>0</td>\n",
              "    </tr>\n",
              "    <tr>\n",
              "      <th>3</th>\n",
              "      <td>11</td>\n",
              "      <td>36</td>\n",
              "      <td>43086</td>\n",
              "      <td>4</td>\n",
              "      <td>1</td>\n",
              "    </tr>\n",
              "    <tr>\n",
              "      <th>4</th>\n",
              "      <td>12</td>\n",
              "      <td>36</td>\n",
              "      <td>46620</td>\n",
              "      <td>5</td>\n",
              "      <td>1</td>\n",
              "    </tr>\n",
              "  </tbody>\n",
              "</table>\n",
              "</div>"
            ],
            "text/plain": [
              "   Unnamed: 0  order_id  product_id  add_to_cart_order  reordered\n",
              "0           8        36       39612                  1          0\n",
              "1           9        36       19660                  2          1\n",
              "2          10        36       49235                  3          0\n",
              "3          11        36       43086                  4          1\n",
              "4          12        36       46620                  5          1"
            ]
          },
          "metadata": {
            "tags": []
          },
          "execution_count": 11
        }
      ]
    },
    {
      "cell_type": "code",
      "metadata": {
        "id": "skMa_e1NL4XS",
        "colab_type": "code",
        "outputId": "b18b8eee-2db2-41b3-ee60-136df3fb633b",
        "colab": {
          "base_uri": "https://localhost:8080/",
          "height": 217
        }
      },
      "source": [
        "orders.head(5)"
      ],
      "execution_count": 0,
      "outputs": [
        {
          "output_type": "execute_result",
          "data": {
            "text/html": [
              "<div>\n",
              "<style scoped>\n",
              "    .dataframe tbody tr th:only-of-type {\n",
              "        vertical-align: middle;\n",
              "    }\n",
              "\n",
              "    .dataframe tbody tr th {\n",
              "        vertical-align: top;\n",
              "    }\n",
              "\n",
              "    .dataframe thead th {\n",
              "        text-align: right;\n",
              "    }\n",
              "</style>\n",
              "<table border=\"1\" class=\"dataframe\">\n",
              "  <thead>\n",
              "    <tr style=\"text-align: right;\">\n",
              "      <th></th>\n",
              "      <th>Unnamed: 0</th>\n",
              "      <th>days_since_prior_order</th>\n",
              "      <th>eval_set</th>\n",
              "      <th>order_dow</th>\n",
              "      <th>order_hour_of_day</th>\n",
              "      <th>order_id</th>\n",
              "      <th>order_number</th>\n",
              "      <th>user_id</th>\n",
              "    </tr>\n",
              "  </thead>\n",
              "  <tbody>\n",
              "    <tr>\n",
              "      <th>0</th>\n",
              "      <td>0</td>\n",
              "      <td>NaN</td>\n",
              "      <td>prior</td>\n",
              "      <td>2</td>\n",
              "      <td>8</td>\n",
              "      <td>2539329</td>\n",
              "      <td>1</td>\n",
              "      <td>1</td>\n",
              "    </tr>\n",
              "    <tr>\n",
              "      <th>1</th>\n",
              "      <td>1</td>\n",
              "      <td>15.0</td>\n",
              "      <td>prior</td>\n",
              "      <td>3</td>\n",
              "      <td>7</td>\n",
              "      <td>2398795</td>\n",
              "      <td>2</td>\n",
              "      <td>1</td>\n",
              "    </tr>\n",
              "    <tr>\n",
              "      <th>2</th>\n",
              "      <td>2</td>\n",
              "      <td>21.0</td>\n",
              "      <td>prior</td>\n",
              "      <td>3</td>\n",
              "      <td>12</td>\n",
              "      <td>473747</td>\n",
              "      <td>3</td>\n",
              "      <td>1</td>\n",
              "    </tr>\n",
              "    <tr>\n",
              "      <th>3</th>\n",
              "      <td>3</td>\n",
              "      <td>29.0</td>\n",
              "      <td>prior</td>\n",
              "      <td>4</td>\n",
              "      <td>7</td>\n",
              "      <td>2254736</td>\n",
              "      <td>4</td>\n",
              "      <td>1</td>\n",
              "    </tr>\n",
              "    <tr>\n",
              "      <th>4</th>\n",
              "      <td>4</td>\n",
              "      <td>28.0</td>\n",
              "      <td>prior</td>\n",
              "      <td>4</td>\n",
              "      <td>15</td>\n",
              "      <td>431534</td>\n",
              "      <td>5</td>\n",
              "      <td>1</td>\n",
              "    </tr>\n",
              "  </tbody>\n",
              "</table>\n",
              "</div>"
            ],
            "text/plain": [
              "   Unnamed: 0  days_since_prior_order eval_set  ...  order_id  order_number  user_id\n",
              "0           0                     NaN    prior  ...   2539329             1        1\n",
              "1           1                    15.0    prior  ...   2398795             2        1\n",
              "2           2                    21.0    prior  ...    473747             3        1\n",
              "3           3                    29.0    prior  ...   2254736             4        1\n",
              "4           4                    28.0    prior  ...    431534             5        1\n",
              "\n",
              "[5 rows x 8 columns]"
            ]
          },
          "metadata": {
            "tags": []
          },
          "execution_count": 12
        }
      ]
    },
    {
      "cell_type": "code",
      "metadata": {
        "id": "qm-U6NdZL4VF",
        "colab_type": "code",
        "outputId": "51541749-0a22-4066-ae68-07dd29614dc5",
        "colab": {
          "base_uri": "https://localhost:8080/",
          "height": 217
        }
      },
      "source": [
        "products.head(5)"
      ],
      "execution_count": 0,
      "outputs": [
        {
          "output_type": "execute_result",
          "data": {
            "text/html": [
              "<div>\n",
              "<style scoped>\n",
              "    .dataframe tbody tr th:only-of-type {\n",
              "        vertical-align: middle;\n",
              "    }\n",
              "\n",
              "    .dataframe tbody tr th {\n",
              "        vertical-align: top;\n",
              "    }\n",
              "\n",
              "    .dataframe thead th {\n",
              "        text-align: right;\n",
              "    }\n",
              "</style>\n",
              "<table border=\"1\" class=\"dataframe\">\n",
              "  <thead>\n",
              "    <tr style=\"text-align: right;\">\n",
              "      <th></th>\n",
              "      <th>product_id</th>\n",
              "      <th>product_name</th>\n",
              "      <th>aisle_id</th>\n",
              "      <th>department_id</th>\n",
              "    </tr>\n",
              "  </thead>\n",
              "  <tbody>\n",
              "    <tr>\n",
              "      <th>0</th>\n",
              "      <td>1</td>\n",
              "      <td>Chocolate Sandwich Cookies</td>\n",
              "      <td>61</td>\n",
              "      <td>19</td>\n",
              "    </tr>\n",
              "    <tr>\n",
              "      <th>1</th>\n",
              "      <td>2</td>\n",
              "      <td>All-Seasons Salt</td>\n",
              "      <td>104</td>\n",
              "      <td>13</td>\n",
              "    </tr>\n",
              "    <tr>\n",
              "      <th>2</th>\n",
              "      <td>3</td>\n",
              "      <td>Robust Golden Unsweetened Oolong Tea</td>\n",
              "      <td>94</td>\n",
              "      <td>7</td>\n",
              "    </tr>\n",
              "    <tr>\n",
              "      <th>3</th>\n",
              "      <td>4</td>\n",
              "      <td>Smart Ones Classic Favorites Mini Rigatoni Wit...</td>\n",
              "      <td>38</td>\n",
              "      <td>1</td>\n",
              "    </tr>\n",
              "    <tr>\n",
              "      <th>4</th>\n",
              "      <td>5</td>\n",
              "      <td>Green Chile Anytime Sauce</td>\n",
              "      <td>5</td>\n",
              "      <td>13</td>\n",
              "    </tr>\n",
              "  </tbody>\n",
              "</table>\n",
              "</div>"
            ],
            "text/plain": [
              "   product_id  ... department_id\n",
              "0           1  ...            19\n",
              "1           2  ...            13\n",
              "2           3  ...             7\n",
              "3           4  ...             1\n",
              "4           5  ...            13\n",
              "\n",
              "[5 rows x 4 columns]"
            ]
          },
          "metadata": {
            "tags": []
          },
          "execution_count": 13
        }
      ]
    },
    {
      "cell_type": "markdown",
      "metadata": {
        "id": "19Htsq9bMWc4",
        "colab_type": "text"
      },
      "source": [
        "# **1) When do customers order the most Day of the week**"
      ]
    },
    {
      "cell_type": "code",
      "metadata": {
        "id": "mhNi7eZHL4Sv",
        "colab_type": "code",
        "colab": {}
      },
      "source": [
        "day_of_week = orders[orders['order_dow']<=6]"
      ],
      "execution_count": 0,
      "outputs": []
    },
    {
      "cell_type": "code",
      "metadata": {
        "id": "hOW0Sa3uL4Pg",
        "colab_type": "code",
        "colab": {}
      },
      "source": [
        "day_of_week = day_of_week.drop(['Unnamed: 0','days_since_prior_order','eval_set','order_hour_of_day','order_number','user_id'],axis=1)"
      ],
      "execution_count": 0,
      "outputs": []
    },
    {
      "cell_type": "code",
      "metadata": {
        "id": "oFDmOeWwLEGc",
        "colab_type": "code",
        "outputId": "c866d57e-dfd6-4b66-d535-6d4bfea97e02",
        "colab": {
          "base_uri": "https://localhost:8080/",
          "height": 217
        }
      },
      "source": [
        "day_of_week.head()"
      ],
      "execution_count": 0,
      "outputs": [
        {
          "output_type": "execute_result",
          "data": {
            "text/html": [
              "<div>\n",
              "<style scoped>\n",
              "    .dataframe tbody tr th:only-of-type {\n",
              "        vertical-align: middle;\n",
              "    }\n",
              "\n",
              "    .dataframe tbody tr th {\n",
              "        vertical-align: top;\n",
              "    }\n",
              "\n",
              "    .dataframe thead th {\n",
              "        text-align: right;\n",
              "    }\n",
              "</style>\n",
              "<table border=\"1\" class=\"dataframe\">\n",
              "  <thead>\n",
              "    <tr style=\"text-align: right;\">\n",
              "      <th></th>\n",
              "      <th>order_dow</th>\n",
              "      <th>order_id</th>\n",
              "    </tr>\n",
              "  </thead>\n",
              "  <tbody>\n",
              "    <tr>\n",
              "      <th>0</th>\n",
              "      <td>2</td>\n",
              "      <td>2539329</td>\n",
              "    </tr>\n",
              "    <tr>\n",
              "      <th>1</th>\n",
              "      <td>3</td>\n",
              "      <td>2398795</td>\n",
              "    </tr>\n",
              "    <tr>\n",
              "      <th>2</th>\n",
              "      <td>3</td>\n",
              "      <td>473747</td>\n",
              "    </tr>\n",
              "    <tr>\n",
              "      <th>3</th>\n",
              "      <td>4</td>\n",
              "      <td>2254736</td>\n",
              "    </tr>\n",
              "    <tr>\n",
              "      <th>4</th>\n",
              "      <td>4</td>\n",
              "      <td>431534</td>\n",
              "    </tr>\n",
              "  </tbody>\n",
              "</table>\n",
              "</div>"
            ],
            "text/plain": [
              "   order_dow  order_id\n",
              "0          2   2539329\n",
              "1          3   2398795\n",
              "2          3    473747\n",
              "3          4   2254736\n",
              "4          4    431534"
            ]
          },
          "metadata": {
            "tags": []
          },
          "execution_count": 16
        }
      ]
    },
    {
      "cell_type": "code",
      "metadata": {
        "id": "eLWmGmKOM6Ap",
        "colab_type": "code",
        "outputId": "c04b6ee6-faa8-48d3-da9f-17854bf556c4",
        "colab": {
          "base_uri": "https://localhost:8080/",
          "height": 36
        }
      },
      "source": [
        "orders.shape"
      ],
      "execution_count": 0,
      "outputs": [
        {
          "output_type": "execute_result",
          "data": {
            "text/plain": [
              "(2186548, 8)"
            ]
          },
          "metadata": {
            "tags": []
          },
          "execution_count": 17
        }
      ]
    },
    {
      "cell_type": "code",
      "metadata": {
        "id": "2gAHbg8cM59W",
        "colab_type": "code",
        "outputId": "1a1420f3-2d7e-4985-81b1-2045e5eafaf7",
        "colab": {
          "base_uri": "https://localhost:8080/",
          "height": 608
        }
      },
      "source": [
        "grouped = day_of_week['order_dow'].value_counts()\n",
        "plt.subplots(figsize=(10, 10))\n",
        "sns.barplot(grouped.index, grouped.values)\n",
        "plt.ylabel('Number of orders', fontsize=13)\n",
        "plt.xlabel('Days of order in a week', fontsize=13)\n",
        "plt.show()"
      ],
      "execution_count": 0,
      "outputs": [
        {
          "output_type": "display_data",
          "data": {
            "image/png": "[encoded data removed]",
            "text/plain": [
              "<Figure size 720x720 with 1 Axes>"
            ]
          },
          "metadata": {
            "tags": []
          }
        }
      ]
    },
    {
      "cell_type": "markdown",
      "metadata": {
        "id": "8yHvNmTzNJb7",
        "colab_type": "text"
      },
      "source": [
        "From the graph we see that on 0th day of the week the customer orders the most."
      ]
    },
    {
      "cell_type": "markdown",
      "metadata": {
        "id": "1WB3jygeNUcy",
        "colab_type": "text"
      },
      "source": [
        "# **2)When do customers order the most time of the day**\n"
      ]
    },
    {
      "cell_type": "code",
      "metadata": {
        "id": "Cxrw6IMjM56k",
        "colab_type": "code",
        "colab": {}
      },
      "source": [
        "hour_of_day=orders.drop(['Unnamed: 0','days_since_prior_order','eval_set','order_dow','order_number','user_id'],axis=1)"
      ],
      "execution_count": 0,
      "outputs": []
    },
    {
      "cell_type": "code",
      "metadata": {
        "id": "Dosfe2-0M54O",
        "colab_type": "code",
        "outputId": "d4ec579a-9b5e-4b17-d628-45302cd634d6",
        "colab": {
          "base_uri": "https://localhost:8080/",
          "height": 608
        }
      },
      "source": [
        "grouped = hour_of_day['order_hour_of_day'].value_counts()\n",
        "plt.subplots(figsize=(15, 10))\n",
        "sns.barplot(grouped.index, grouped.values)\n",
        "plt.ylabel('Number of orders', fontsize=13)\n",
        "plt.xlabel('Hours of order in a day', fontsize=13)\n",
        "plt.show()"
      ],
      "execution_count": 0,
      "outputs": [
        {
          "output_type": "display_data",
          "data": {
            "image/png": "[encoded data removed]",
            "text/plain": [
              "<Figure size 1080x720 with 1 Axes>"
            ]
          },
          "metadata": {
            "tags": []
          }
        }
      ]
    },
    {
      "cell_type": "markdown",
      "metadata": {
        "id": "zb9ao-KbNlkt",
        "colab_type": "text"
      },
      "source": [
        "From the above graph we see that the customer orders the most between 10 to 15 "
      ]
    },
    {
      "cell_type": "markdown",
      "metadata": {
        "id": "BFAhKjThOk-i",
        "colab_type": "text"
      },
      "source": [
        "# **3) Combination of above two**"
      ]
    },
    {
      "cell_type": "code",
      "metadata": {
        "id": "rb4RujDPN6qR",
        "colab_type": "code",
        "outputId": "0daa4bd5-cec5-42ca-f12b-aa9a7fddbb99",
        "colab": {
          "base_uri": "https://localhost:8080/",
          "height": 217
        }
      },
      "source": [
        "combo=pd.merge(left=day_of_week,right=hour_of_day,how='left')\n",
        "combo.tail()"
      ],
      "execution_count": 0,
      "outputs": [
        {
          "output_type": "execute_result",
          "data": {
            "text/html": [
              "<div>\n",
              "<style scoped>\n",
              "    .dataframe tbody tr th:only-of-type {\n",
              "        vertical-align: middle;\n",
              "    }\n",
              "\n",
              "    .dataframe tbody tr th {\n",
              "        vertical-align: top;\n",
              "    }\n",
              "\n",
              "    .dataframe thead th {\n",
              "        text-align: right;\n",
              "    }\n",
              "</style>\n",
              "<table border=\"1\" class=\"dataframe\">\n",
              "  <thead>\n",
              "    <tr style=\"text-align: right;\">\n",
              "      <th></th>\n",
              "      <th>order_dow</th>\n",
              "      <th>order_id</th>\n",
              "      <th>order_hour_of_day</th>\n",
              "    </tr>\n",
              "  </thead>\n",
              "  <tbody>\n",
              "    <tr>\n",
              "      <th>2195493</th>\n",
              "      <td>3</td>\n",
              "      <td>1270192</td>\n",
              "      <td>9</td>\n",
              "    </tr>\n",
              "    <tr>\n",
              "      <th>2195494</th>\n",
              "      <td>3</td>\n",
              "      <td>1267262</td>\n",
              "      <td>8</td>\n",
              "    </tr>\n",
              "    <tr>\n",
              "      <th>2195495</th>\n",
              "      <td>3</td>\n",
              "      <td>1267262</td>\n",
              "      <td>8</td>\n",
              "    </tr>\n",
              "    <tr>\n",
              "      <th>2195496</th>\n",
              "      <td>2</td>\n",
              "      <td>2092941</td>\n",
              "      <td>10</td>\n",
              "    </tr>\n",
              "    <tr>\n",
              "      <th>2195497</th>\n",
              "      <td>2</td>\n",
              "      <td>2092941</td>\n",
              "      <td>10</td>\n",
              "    </tr>\n",
              "  </tbody>\n",
              "</table>\n",
              "</div>"
            ],
            "text/plain": [
              "         order_dow  order_id  order_hour_of_day\n",
              "2195493          3   1270192                  9\n",
              "2195494          3   1267262                  8\n",
              "2195495          3   1267262                  8\n",
              "2195496          2   2092941                 10\n",
              "2195497          2   2092941                 10"
            ]
          },
          "metadata": {
            "tags": []
          },
          "execution_count": 57
        }
      ]
    },
    {
      "cell_type": "code",
      "metadata": {
        "id": "5dBbbz11N6nb",
        "colab_type": "code",
        "outputId": "e0ff0dd8-e7ed-4783-eab7-4f04a77f5536",
        "colab": {
          "base_uri": "https://localhost:8080/",
          "height": 36
        }
      },
      "source": [
        "combo.shape"
      ],
      "execution_count": 0,
      "outputs": [
        {
          "output_type": "execute_result",
          "data": {
            "text/plain": [
              "(2195498, 3)"
            ]
          },
          "metadata": {
            "tags": []
          },
          "execution_count": 23
        }
      ]
    },
    {
      "cell_type": "code",
      "metadata": {
        "id": "CxPuSlF8N6k0",
        "colab_type": "code",
        "outputId": "437ddb79-554a-4ad1-fb18-8f95a09965f7",
        "colab": {
          "base_uri": "https://localhost:8080/",
          "height": 96
        }
      },
      "source": [
        "combo.isnull().sum()"
      ],
      "execution_count": 0,
      "outputs": [
        {
          "output_type": "execute_result",
          "data": {
            "text/plain": [
              "order_dow            0\n",
              "order_id             0\n",
              "order_hour_of_day    0\n",
              "dtype: int64"
            ]
          },
          "metadata": {
            "tags": []
          },
          "execution_count": 25
        }
      ]
    },
    {
      "cell_type": "code",
      "metadata": {
        "id": "2tMD8h8NPi5s",
        "colab_type": "code",
        "outputId": "a9b72466-9ad7-497f-bc38-b796c15b7231",
        "colab": {
          "base_uri": "https://localhost:8080/",
          "height": 656
        }
      },
      "source": [
        "combo.groupby('order_dow')['order_hour_of_day'].value_counts().head(30)"
      ],
      "execution_count": 0,
      "outputs": [
        {
          "output_type": "execute_result",
          "data": {
            "text/plain": [
              "order_dow  order_hour_of_day\n",
              "0          14                   35116\n",
              "           15                   34659\n",
              "           13                   34409\n",
              "           12                   32987\n",
              "           11                   32784\n",
              "           16                   32077\n",
              "           10                   31232\n",
              "           9                    26247\n",
              "           17                   25700\n",
              "           18                   19033\n",
              "           8                    18025\n",
              "           19                   14628\n",
              "           20                   11698\n",
              "           21                    9317\n",
              "           7                     8036\n",
              "           22                    7071\n",
              "           23                    4353\n",
              "           0                     2567\n",
              "           6                     2092\n",
              "           1                     1568\n",
              "           2                      957\n",
              "           5                      778\n",
              "           3                      667\n",
              "           4                      525\n",
              "1          10                   35709\n",
              "           11                   33254\n",
              "           9                    33087\n",
              "           12                   30328\n",
              "           14                   30003\n",
              "           13                   29944\n",
              "Name: order_hour_of_day, dtype: int64"
            ]
          },
          "metadata": {
            "tags": []
          },
          "execution_count": 51
        }
      ]
    },
    {
      "cell_type": "code",
      "metadata": {
        "id": "_d4NEphTN6hp",
        "colab_type": "code",
        "colab": {}
      },
      "source": [
        "top_combo = combo.groupby('order_dow')['order_hour_of_day'].value_counts().sort_values(ascending=False).head(5)"
      ],
      "execution_count": 0,
      "outputs": []
    },
    {
      "cell_type": "code",
      "metadata": {
        "id": "9FoJRFV3Y37c",
        "colab_type": "code",
        "outputId": "224cd5e0-11dc-4a8f-af03-029b6e175026",
        "colab": {
          "base_uri": "https://localhost:8080/",
          "height": 574
        }
      },
      "source": [
        "plt.subplots(figsize=(30, 15))\n",
        "plt.xticks(rotation='vertical')\n",
        "sns.barplot(top_combo.index, top_combo.values)\n",
        "plt.ylabel('Number of orders', fontsize=13)\n",
        "plt.xlabel('Hours of order in a day', fontsize=13)\n",
        "plt.show()"
      ],
      "execution_count": 0,
      "outputs": [
        {
          "output_type": "display_data",
          "data": {
            "image/png": "[encoded data removed]",
            "text/plain": [
              "<Figure size 2160x1080 with 1 Axes>"
            ]
          },
          "metadata": {
            "tags": []
          }
        }
      ]
    },
    {
      "cell_type": "markdown",
      "metadata": {
        "id": "V3YAEE5GZuLY",
        "colab_type": "text"
      },
      "source": [
        "From the above graph on the 1st day and 10th hour highest purchase was done"
      ]
    },
    {
      "cell_type": "code",
      "metadata": {
        "id": "1E7WV7AAN6eE",
        "colab_type": "code",
        "outputId": "aacb7806-3122-48d1-fbee-4bb9fa984008",
        "colab": {
          "base_uri": "https://localhost:8080/",
          "height": 156
        }
      },
      "source": [
        "combo.head(30)"
      ],
      "execution_count": 0,
      "outputs": [
        {
          "output_type": "execute_result",
          "data": {
            "text/plain": [
              "order_dow\n",
              "0    386526\n",
              "1    377296\n",
              "2    299443\n",
              "5    291282\n",
              "6    287872\n",
              "Name: order_hour_of_day, dtype: int64"
            ]
          },
          "metadata": {
            "tags": []
          },
          "execution_count": 54
        }
      ]
    },
    {
      "cell_type": "markdown",
      "metadata": {
        "id": "Pz7ZWSSPRdcG",
        "colab_type": "text"
      },
      "source": [
        "# **4) What are the top 5 products that are ordered.**"
      ]
    },
    {
      "cell_type": "code",
      "metadata": {
        "id": "X31SKNEOM51V",
        "colab_type": "code",
        "colab": {}
      },
      "source": [
        "order_product_reorder = prior.drop(['order_id','add_to_cart_order'],axis=1)"
      ],
      "execution_count": 0,
      "outputs": []
    },
    {
      "cell_type": "code",
      "metadata": {
        "id": "Qj5Q891GRlCH",
        "colab_type": "code",
        "colab": {}
      },
      "source": [
        "product_names = products.drop(['aisle_id','department_id'],axis=1)"
      ],
      "execution_count": 0,
      "outputs": []
    },
    {
      "cell_type": "code",
      "metadata": {
        "id": "hxaoIlPeRk9s",
        "colab_type": "code",
        "colab": {}
      },
      "source": [
        "top_products = pd.merge(left = product_names, right = order_product_reorder, how='left')"
      ],
      "execution_count": 0,
      "outputs": []
    },
    {
      "cell_type": "code",
      "metadata": {
        "id": "yphDd0XtRk5_",
        "colab_type": "code",
        "outputId": "71be8f4b-f967-46e7-8577-76eec5b9390c",
        "colab": {
          "base_uri": "https://localhost:8080/",
          "height": 217
        }
      },
      "source": [
        "top_products.head()"
      ],
      "execution_count": 0,
      "outputs": [
        {
          "output_type": "execute_result",
          "data": {
            "text/html": [
              "<div>\n",
              "<style scoped>\n",
              "    .dataframe tbody tr th:only-of-type {\n",
              "        vertical-align: middle;\n",
              "    }\n",
              "\n",
              "    .dataframe tbody tr th {\n",
              "        vertical-align: top;\n",
              "    }\n",
              "\n",
              "    .dataframe thead th {\n",
              "        text-align: right;\n",
              "    }\n",
              "</style>\n",
              "<table border=\"1\" class=\"dataframe\">\n",
              "  <thead>\n",
              "    <tr style=\"text-align: right;\">\n",
              "      <th></th>\n",
              "      <th>product_id</th>\n",
              "      <th>product_name</th>\n",
              "      <th>reordered</th>\n",
              "    </tr>\n",
              "  </thead>\n",
              "  <tbody>\n",
              "    <tr>\n",
              "      <th>0</th>\n",
              "      <td>1</td>\n",
              "      <td>Chocolate Sandwich Cookies</td>\n",
              "      <td>0.0</td>\n",
              "    </tr>\n",
              "    <tr>\n",
              "      <th>1</th>\n",
              "      <td>1</td>\n",
              "      <td>Chocolate Sandwich Cookies</td>\n",
              "      <td>1.0</td>\n",
              "    </tr>\n",
              "    <tr>\n",
              "      <th>2</th>\n",
              "      <td>1</td>\n",
              "      <td>Chocolate Sandwich Cookies</td>\n",
              "      <td>1.0</td>\n",
              "    </tr>\n",
              "    <tr>\n",
              "      <th>3</th>\n",
              "      <td>1</td>\n",
              "      <td>Chocolate Sandwich Cookies</td>\n",
              "      <td>0.0</td>\n",
              "    </tr>\n",
              "    <tr>\n",
              "      <th>4</th>\n",
              "      <td>1</td>\n",
              "      <td>Chocolate Sandwich Cookies</td>\n",
              "      <td>0.0</td>\n",
              "    </tr>\n",
              "  </tbody>\n",
              "</table>\n",
              "</div>"
            ],
            "text/plain": [
              "   product_id                product_name  reordered\n",
              "0           1  Chocolate Sandwich Cookies        0.0\n",
              "1           1  Chocolate Sandwich Cookies        1.0\n",
              "2           1  Chocolate Sandwich Cookies        1.0\n",
              "3           1  Chocolate Sandwich Cookies        0.0\n",
              "4           1  Chocolate Sandwich Cookies        0.0"
            ]
          },
          "metadata": {
            "tags": []
          },
          "execution_count": 38
        }
      ]
    },
    {
      "cell_type": "code",
      "metadata": {
        "id": "15xpP04HRkOr",
        "colab_type": "code",
        "colab": {}
      },
      "source": [
        "top_products = top_products.groupby('product_name')['product_id'].count().sort_values(ascending=False).head(5)"
      ],
      "execution_count": 0,
      "outputs": []
    },
    {
      "cell_type": "code",
      "metadata": {
        "id": "hW9Qu78WRkLR",
        "colab_type": "code",
        "outputId": "a8498f54-2fdc-4544-f03d-44b87b288b1c",
        "colab": {
          "base_uri": "https://localhost:8080/",
          "height": 156
        }
      },
      "source": [
        "top_products"
      ],
      "execution_count": 0,
      "outputs": [
        {
          "output_type": "execute_result",
          "data": {
            "text/plain": [
              "product_name\n",
              "Banana                    472565\n",
              "Bag of Organic Bananas    379450\n",
              "Organic Strawberries      264683\n",
              "Organic Baby Spinach      241921\n",
              "Organic Hass Avocado      213584\n",
              "Name: product_id, dtype: int64"
            ]
          },
          "metadata": {
            "tags": []
          },
          "execution_count": 40
        }
      ]
    },
    {
      "cell_type": "code",
      "metadata": {
        "id": "6hYlXlKXSGjD",
        "colab_type": "code",
        "outputId": "bce6cdcc-174c-48f9-885a-7c71a4cc3800",
        "colab": {
          "base_uri": "https://localhost:8080/",
          "height": 608
        }
      },
      "source": [
        "plt.subplots(figsize=(12, 10))\n",
        "sns.barplot(top_products.index, top_products.values)\n",
        "plt.ylabel('Number of Orders', fontsize=13)\n",
        "plt.xlabel('Most ordered Products', fontsize=13)\n",
        "plt.show()\n"
      ],
      "execution_count": 0,
      "outputs": [
        {
          "output_type": "display_data",
          "data": {
            "image/png": "[encoded data removed]",
            "text/plain": [
              "<Figure size 864x720 with 1 Axes>"
            ]
          },
          "metadata": {
            "tags": []
          }
        }
      ]
    },
    {
      "cell_type": "markdown",
      "metadata": {
        "id": "O1-olRErSMII",
        "colab_type": "text"
      },
      "source": [
        "The top five reordered products are Bananas, Bag of Organis bananas, Organic Strawberries, Organic Baby Spinach, Organis Hass Avacado"
      ]
    },
    {
      "cell_type": "markdown",
      "metadata": {
        "id": "sXT13nL8Skae",
        "colab_type": "text"
      },
      "source": [
        "# **5) What are the top 5 products that are reordered**"
      ]
    },
    {
      "cell_type": "code",
      "metadata": {
        "id": "Q5v5L49-SGfV",
        "colab_type": "code",
        "outputId": "b332b97c-e911-4673-f1c2-0a2883d1ffc5",
        "colab": {
          "base_uri": "https://localhost:8080/",
          "height": 237
        }
      },
      "source": [
        "top_products_reordered = prior.groupby(\"product_id\")[\"reordered\"].aggregate(reorder_sum = 'sum',reorder_total = 'count').reset_index()\n",
        "top_products_reordered['reorder_probability'] = top_products_reordered['reorder_sum'] / top_products_reordered['reorder_total']\n",
        "top_products_reordered = pd.merge(top_products_reordered, products[['product_id', 'product_name']], how='left', on=['product_id'])\n",
        "top_products_reordered = top_products_reordered.sort_values(by='reorder_probability', ascending=False)[:5]\n",
        "top_products_reordered"
      ],
      "execution_count": 0,
      "outputs": [
        {
          "output_type": "stream",
          "text": [
            "ERROR! Session/line number was not unique in database. History logging moved to new session 60\n"
          ],
          "name": "stdout"
        },
        {
          "output_type": "execute_result",
          "data": {
            "text/html": [
              "<div>\n",
              "<style scoped>\n",
              "    .dataframe tbody tr th:only-of-type {\n",
              "        vertical-align: middle;\n",
              "    }\n",
              "\n",
              "    .dataframe tbody tr th {\n",
              "        vertical-align: top;\n",
              "    }\n",
              "\n",
              "    .dataframe thead th {\n",
              "        text-align: right;\n",
              "    }\n",
              "</style>\n",
              "<table border=\"1\" class=\"dataframe\">\n",
              "  <thead>\n",
              "    <tr style=\"text-align: right;\">\n",
              "      <th></th>\n",
              "      <th>product_id</th>\n",
              "      <th>reorder_sum</th>\n",
              "      <th>reorder_total</th>\n",
              "      <th>reorder_probability</th>\n",
              "      <th>product_name</th>\n",
              "    </tr>\n",
              "  </thead>\n",
              "  <tbody>\n",
              "    <tr>\n",
              "      <th>6430</th>\n",
              "      <td>6433</td>\n",
              "      <td>64</td>\n",
              "      <td>68</td>\n",
              "      <td>0.941176</td>\n",
              "      <td>Raw Veggie Wrappers</td>\n",
              "    </tr>\n",
              "    <tr>\n",
              "      <th>2074</th>\n",
              "      <td>2075</td>\n",
              "      <td>81</td>\n",
              "      <td>87</td>\n",
              "      <td>0.931034</td>\n",
              "      <td>Serenity Ultimate Extrema Overnight Pads</td>\n",
              "    </tr>\n",
              "    <tr>\n",
              "      <th>43545</th>\n",
              "      <td>43553</td>\n",
              "      <td>12</td>\n",
              "      <td>13</td>\n",
              "      <td>0.923077</td>\n",
              "      <td>Orange Energy Shots</td>\n",
              "    </tr>\n",
              "    <tr>\n",
              "      <th>27734</th>\n",
              "      <td>27740</td>\n",
              "      <td>93</td>\n",
              "      <td>101</td>\n",
              "      <td>0.920792</td>\n",
              "      <td>Chocolate Love Bar</td>\n",
              "    </tr>\n",
              "    <tr>\n",
              "      <th>14605</th>\n",
              "      <td>14609</td>\n",
              "      <td>32</td>\n",
              "      <td>35</td>\n",
              "      <td>0.914286</td>\n",
              "      <td>Soy Powder Infant Formula</td>\n",
              "    </tr>\n",
              "  </tbody>\n",
              "</table>\n",
              "</div>"
            ],
            "text/plain": [
              "       product_id  ...                              product_name\n",
              "6430         6433  ...                       Raw Veggie Wrappers\n",
              "2074         2075  ...  Serenity Ultimate Extrema Overnight Pads\n",
              "43545       43553  ...                       Orange Energy Shots\n",
              "27734       27740  ...                        Chocolate Love Bar\n",
              "14605       14609  ...                 Soy Powder Infant Formula\n",
              "\n",
              "[5 rows x 5 columns]"
            ]
          },
          "metadata": {
            "tags": []
          },
          "execution_count": 45
        }
      ]
    },
    {
      "cell_type": "markdown",
      "metadata": {
        "id": "9BCC2AzXT7ev",
        "colab_type": "text"
      },
      "source": [
        "# **6) What is the reorder ratio for each department?**"
      ]
    },
    {
      "cell_type": "code",
      "metadata": {
        "id": "fFwD5-zqSGbu",
        "colab_type": "code",
        "outputId": "e7a33c35-312c-4df2-e0d0-83707b330d53",
        "colab": {
          "base_uri": "https://localhost:8080/",
          "height": 217
        }
      },
      "source": [
        "products_only = products.drop(['product_name','aisle_id'],axis=1)\n",
        "order_prod = prior.drop(['add_to_cart_order','reordered'],axis=1)\n",
        "dep_prod = pd.merge(left =departments, right=products_only,how='left')\n",
        "dep_orderid = pd.merge(left=dep_prod,right=order_prod,how='left')\n",
        "dep_orderid.head()"
      ],
      "execution_count": 0,
      "outputs": [
        {
          "output_type": "execute_result",
          "data": {
            "text/html": [
              "<div>\n",
              "<style scoped>\n",
              "    .dataframe tbody tr th:only-of-type {\n",
              "        vertical-align: middle;\n",
              "    }\n",
              "\n",
              "    .dataframe tbody tr th {\n",
              "        vertical-align: top;\n",
              "    }\n",
              "\n",
              "    .dataframe thead th {\n",
              "        text-align: right;\n",
              "    }\n",
              "</style>\n",
              "<table border=\"1\" class=\"dataframe\">\n",
              "  <thead>\n",
              "    <tr style=\"text-align: right;\">\n",
              "      <th></th>\n",
              "      <th>department_id</th>\n",
              "      <th>department</th>\n",
              "      <th>product_id</th>\n",
              "      <th>order_id</th>\n",
              "    </tr>\n",
              "  </thead>\n",
              "  <tbody>\n",
              "    <tr>\n",
              "      <th>0</th>\n",
              "      <td>1</td>\n",
              "      <td>frozen</td>\n",
              "      <td>4</td>\n",
              "      <td>13379.0</td>\n",
              "    </tr>\n",
              "    <tr>\n",
              "      <th>1</th>\n",
              "      <td>1</td>\n",
              "      <td>frozen</td>\n",
              "      <td>4</td>\n",
              "      <td>21260.0</td>\n",
              "    </tr>\n",
              "    <tr>\n",
              "      <th>2</th>\n",
              "      <td>1</td>\n",
              "      <td>frozen</td>\n",
              "      <td>4</td>\n",
              "      <td>43050.0</td>\n",
              "    </tr>\n",
              "    <tr>\n",
              "      <th>3</th>\n",
              "      <td>1</td>\n",
              "      <td>frozen</td>\n",
              "      <td>4</td>\n",
              "      <td>47541.0</td>\n",
              "    </tr>\n",
              "    <tr>\n",
              "      <th>4</th>\n",
              "      <td>1</td>\n",
              "      <td>frozen</td>\n",
              "      <td>4</td>\n",
              "      <td>53362.0</td>\n",
              "    </tr>\n",
              "  </tbody>\n",
              "</table>\n",
              "</div>"
            ],
            "text/plain": [
              "   department_id department  product_id  order_id\n",
              "0              1     frozen           4   13379.0\n",
              "1              1     frozen           4   21260.0\n",
              "2              1     frozen           4   43050.0\n",
              "3              1     frozen           4   47541.0\n",
              "4              1     frozen           4   53362.0"
            ]
          },
          "metadata": {
            "tags": []
          },
          "execution_count": 46
        }
      ]
    },
    {
      "cell_type": "code",
      "metadata": {
        "id": "L_byRt3uSGX2",
        "colab_type": "code",
        "outputId": "7257edef-3b11-4819-bf78-52c489627e47",
        "colab": {
          "base_uri": "https://localhost:8080/",
          "height": 36
        }
      },
      "source": [
        "dep_orderid.shape"
      ],
      "execution_count": 0,
      "outputs": [
        {
          "output_type": "execute_result",
          "data": {
            "text/plain": [
              "(32434500, 4)"
            ]
          },
          "metadata": {
            "tags": []
          },
          "execution_count": 47
        }
      ]
    },
    {
      "cell_type": "code",
      "metadata": {
        "id": "pRCjMd53RkHc",
        "colab_type": "code",
        "outputId": "62e241d3-1015-4b09-9446-d313410f31ba",
        "colab": {
          "base_uri": "https://localhost:8080/",
          "height": 784
        }
      },
      "source": [
        "dep_ratio=dep_orderid.groupby(\"department\")[\"order_id\"].aggregate(Total_orders= 'count')\n",
        "dep_ratio['Ratio']=dep_ratio['Total_orders']/dep_ratio['Total_orders'].sum()\n",
        "dep_ratio.sort_values(by='Ratio', ascending=False, inplace=True)\n",
        "dep_ratio"
      ],
      "execution_count": 0,
      "outputs": [
        {
          "output_type": "execute_result",
          "data": {
            "text/html": [
              "<div>\n",
              "<style scoped>\n",
              "    .dataframe tbody tr th:only-of-type {\n",
              "        vertical-align: middle;\n",
              "    }\n",
              "\n",
              "    .dataframe tbody tr th {\n",
              "        vertical-align: top;\n",
              "    }\n",
              "\n",
              "    .dataframe thead th {\n",
              "        text-align: right;\n",
              "    }\n",
              "</style>\n",
              "<table border=\"1\" class=\"dataframe\">\n",
              "  <thead>\n",
              "    <tr style=\"text-align: right;\">\n",
              "      <th></th>\n",
              "      <th>Total_orders</th>\n",
              "      <th>Ratio</th>\n",
              "    </tr>\n",
              "    <tr>\n",
              "      <th>department</th>\n",
              "      <th></th>\n",
              "      <th></th>\n",
              "    </tr>\n",
              "  </thead>\n",
              "  <tbody>\n",
              "    <tr>\n",
              "      <th>produce</th>\n",
              "      <td>9479291</td>\n",
              "      <td>0.292260</td>\n",
              "    </tr>\n",
              "    <tr>\n",
              "      <th>dairy eggs</th>\n",
              "      <td>5414016</td>\n",
              "      <td>0.166922</td>\n",
              "    </tr>\n",
              "    <tr>\n",
              "      <th>snacks</th>\n",
              "      <td>2887550</td>\n",
              "      <td>0.089027</td>\n",
              "    </tr>\n",
              "    <tr>\n",
              "      <th>beverages</th>\n",
              "      <td>2690129</td>\n",
              "      <td>0.082940</td>\n",
              "    </tr>\n",
              "    <tr>\n",
              "      <th>frozen</th>\n",
              "      <td>2236432</td>\n",
              "      <td>0.068952</td>\n",
              "    </tr>\n",
              "    <tr>\n",
              "      <th>pantry</th>\n",
              "      <td>1875577</td>\n",
              "      <td>0.057827</td>\n",
              "    </tr>\n",
              "    <tr>\n",
              "      <th>bakery</th>\n",
              "      <td>1176787</td>\n",
              "      <td>0.036282</td>\n",
              "    </tr>\n",
              "    <tr>\n",
              "      <th>canned goods</th>\n",
              "      <td>1068058</td>\n",
              "      <td>0.032930</td>\n",
              "    </tr>\n",
              "    <tr>\n",
              "      <th>deli</th>\n",
              "      <td>1051249</td>\n",
              "      <td>0.032411</td>\n",
              "    </tr>\n",
              "    <tr>\n",
              "      <th>dry goods pasta</th>\n",
              "      <td>866627</td>\n",
              "      <td>0.026719</td>\n",
              "    </tr>\n",
              "    <tr>\n",
              "      <th>household</th>\n",
              "      <td>738666</td>\n",
              "      <td>0.022774</td>\n",
              "    </tr>\n",
              "    <tr>\n",
              "      <th>breakfast</th>\n",
              "      <td>709569</td>\n",
              "      <td>0.021877</td>\n",
              "    </tr>\n",
              "    <tr>\n",
              "      <th>meat seafood</th>\n",
              "      <td>708931</td>\n",
              "      <td>0.021857</td>\n",
              "    </tr>\n",
              "    <tr>\n",
              "      <th>personal care</th>\n",
              "      <td>447123</td>\n",
              "      <td>0.013785</td>\n",
              "    </tr>\n",
              "    <tr>\n",
              "      <th>babies</th>\n",
              "      <td>423802</td>\n",
              "      <td>0.013066</td>\n",
              "    </tr>\n",
              "    <tr>\n",
              "      <th>international</th>\n",
              "      <td>269253</td>\n",
              "      <td>0.008301</td>\n",
              "    </tr>\n",
              "    <tr>\n",
              "      <th>alcohol</th>\n",
              "      <td>153696</td>\n",
              "      <td>0.004739</td>\n",
              "    </tr>\n",
              "    <tr>\n",
              "      <th>pets</th>\n",
              "      <td>97724</td>\n",
              "      <td>0.003013</td>\n",
              "    </tr>\n",
              "    <tr>\n",
              "      <th>missing</th>\n",
              "      <td>69145</td>\n",
              "      <td>0.002132</td>\n",
              "    </tr>\n",
              "    <tr>\n",
              "      <th>other</th>\n",
              "      <td>36291</td>\n",
              "      <td>0.001119</td>\n",
              "    </tr>\n",
              "    <tr>\n",
              "      <th>bulk</th>\n",
              "      <td>34573</td>\n",
              "      <td>0.001066</td>\n",
              "    </tr>\n",
              "  </tbody>\n",
              "</table>\n",
              "</div>"
            ],
            "text/plain": [
              "                 Total_orders     Ratio\n",
              "department                             \n",
              "produce               9479291  0.292260\n",
              "dairy eggs            5414016  0.166922\n",
              "snacks                2887550  0.089027\n",
              "beverages             2690129  0.082940\n",
              "frozen                2236432  0.068952\n",
              "pantry                1875577  0.057827\n",
              "bakery                1176787  0.036282\n",
              "canned goods          1068058  0.032930\n",
              "deli                  1051249  0.032411\n",
              "dry goods pasta        866627  0.026719\n",
              "household              738666  0.022774\n",
              "breakfast              709569  0.021877\n",
              "meat seafood           708931  0.021857\n",
              "personal care          447123  0.013785\n",
              "babies                 423802  0.013066\n",
              "international          269253  0.008301\n",
              "alcohol                153696  0.004739\n",
              "pets                    97724  0.003013\n",
              "missing                 69145  0.002132\n",
              "other                   36291  0.001119\n",
              "bulk                    34573  0.001066"
            ]
          },
          "metadata": {
            "tags": []
          },
          "execution_count": 49
        }
      ]
    },
    {
      "cell_type": "code",
      "metadata": {
        "id": "32sZCSpUV39C",
        "colab_type": "code",
        "outputId": "a585d010-7e2a-4703-9fcb-5dd6abedc0c2",
        "colab": {
          "base_uri": "https://localhost:8080/",
          "height": 678
        }
      },
      "source": [
        "plt.subplots(figsize=(12, 10))\n",
        "plt.xticks(rotation='vertical')\n",
        "sns.barplot(dep_ratio.index, dep_ratio.Ratio)\n",
        "plt.ylabel('Ratio', fontsize=13)\n",
        "plt.xlabel('Departments', fontsize=13)\n",
        "plt.show()"
      ],
      "execution_count": 0,
      "outputs": [
        {
          "output_type": "display_data",
          "data": {
            "image/png": "[encoded data removed]",
            "text/plain": [
              "<Figure size 864x720 with 1 Axes>"
            ]
          },
          "metadata": {
            "tags": []
          }
        }
      ]
    },
    {
      "cell_type": "code",
      "metadata": {
        "id": "lmqg8IrPV7rf",
        "colab_type": "code",
        "colab": {}
      },
      "source": [
        ""
      ],
      "execution_count": 0,
      "outputs": []
    },
    {
      "cell_type": "code",
      "metadata": {
        "id": "qE3SDtRGV79c",
        "colab_type": "code",
        "colab": {}
      },
      "source": [
        ""
      ],
      "execution_count": 0,
      "outputs": []
    }
  ]
}